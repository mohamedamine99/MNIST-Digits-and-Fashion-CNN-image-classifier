{
  "nbformat": 4,
  "nbformat_minor": 0,
  "metadata": {
    "colab": {
      "provenance": []
    },
    "kernelspec": {
      "name": "python3",
      "display_name": "Python 3"
    },
    "language_info": {
      "name": "python"
    }
  },
  "cells": [
    {
      "cell_type": "code",
      "execution_count": 1,
      "metadata": {
        "id": "Jn_f7ryHKLdN"
      },
      "outputs": [],
      "source": [
        "import torch\n",
        "from torch import nn, save, load\n",
        "from torch.optim import Adam\n",
        "from torch.utils.data import DataLoader\n",
        "from torchvision import datasets\n",
        "from torchvision.transforms import ToTensor\n",
        "\n",
        "from time import time\n",
        "from PIL import Image\n",
        "import matplotlib.pyplot as plt"
      ]
    },
    {
      "cell_type": "code",
      "source": [
        "# Load the dataset\n",
        "train = datasets.MNIST(root = '.', train = True, transform = ToTensor(), download = True)\n",
        "train_dataset = DataLoader(train, batch_size = 32, shuffle = True)"
      ],
      "metadata": {
        "colab": {
          "base_uri": "https://localhost:8080/"
        },
        "id": "h24P8U2PuIHo",
        "outputId": "97b7c36b-e214-4491-8c23-e63e9342bfd7"
      },
      "execution_count": 2,
      "outputs": [
        {
          "output_type": "stream",
          "name": "stdout",
          "text": [
            "Downloading http://yann.lecun.com/exdb/mnist/train-images-idx3-ubyte.gz\n",
            "Downloading http://yann.lecun.com/exdb/mnist/train-images-idx3-ubyte.gz to ./MNIST/raw/train-images-idx3-ubyte.gz\n"
          ]
        },
        {
          "output_type": "stream",
          "name": "stderr",
          "text": [
            "100%|██████████| 9912422/9912422 [00:00<00:00, 89881380.75it/s]\n"
          ]
        },
        {
          "output_type": "stream",
          "name": "stdout",
          "text": [
            "Extracting ./MNIST/raw/train-images-idx3-ubyte.gz to ./MNIST/raw\n",
            "\n",
            "Downloading http://yann.lecun.com/exdb/mnist/train-labels-idx1-ubyte.gz\n",
            "Downloading http://yann.lecun.com/exdb/mnist/train-labels-idx1-ubyte.gz to ./MNIST/raw/train-labels-idx1-ubyte.gz\n"
          ]
        },
        {
          "output_type": "stream",
          "name": "stderr",
          "text": [
            "100%|██████████| 28881/28881 [00:00<00:00, 27221504.23it/s]\n"
          ]
        },
        {
          "output_type": "stream",
          "name": "stdout",
          "text": [
            "Extracting ./MNIST/raw/train-labels-idx1-ubyte.gz to ./MNIST/raw\n",
            "\n",
            "Downloading http://yann.lecun.com/exdb/mnist/t10k-images-idx3-ubyte.gz\n",
            "Downloading http://yann.lecun.com/exdb/mnist/t10k-images-idx3-ubyte.gz to ./MNIST/raw/t10k-images-idx3-ubyte.gz\n"
          ]
        },
        {
          "output_type": "stream",
          "name": "stderr",
          "text": [
            "100%|██████████| 1648877/1648877 [00:00<00:00, 24839690.24it/s]\n"
          ]
        },
        {
          "output_type": "stream",
          "name": "stdout",
          "text": [
            "Extracting ./MNIST/raw/t10k-images-idx3-ubyte.gz to ./MNIST/raw\n",
            "\n",
            "Downloading http://yann.lecun.com/exdb/mnist/t10k-labels-idx1-ubyte.gz\n",
            "Downloading http://yann.lecun.com/exdb/mnist/t10k-labels-idx1-ubyte.gz to ./MNIST/raw/t10k-labels-idx1-ubyte.gz\n"
          ]
        },
        {
          "output_type": "stream",
          "name": "stderr",
          "text": [
            "100%|██████████| 4542/4542 [00:00<00:00, 5226482.52it/s]\n"
          ]
        },
        {
          "output_type": "stream",
          "name": "stdout",
          "text": [
            "Extracting ./MNIST/raw/t10k-labels-idx1-ubyte.gz to ./MNIST/raw\n",
            "\n"
          ]
        }
      ]
    },
    {
      "cell_type": "code",
      "source": [
        "class DigitsClassifier(nn.Module):\n",
        "\n",
        "    def __init__(self) -> None:\n",
        "        super().__init__()\n",
        "\n",
        "        self.model = nn.Sequential()\n",
        "\n",
        "        # in_channels, out_channels, kernel_size,\n",
        "        self.model.add_module(\"conv2d_1\", nn.Conv2d(in_channels = 1, out_channels = 16, \n",
        "                                               kernel_size = 3, padding = 1))             # padding = (kernel_size - 1) // 2\n",
        "\n",
        "        self.model.add_module(\"ReLU_1\", nn.ReLU())\n",
        "        self.model.add_module(\"MaxPool2D_1\", nn.MaxPool2d(kernel_size = 2, padding=1))    # padding = (kernel_size - 1) // 2\n",
        "        self.model.add_module('BatchNorm_1', nn.BatchNorm2d(num_features = 16))           # num features = out_channels of the conv2d layer\n",
        "        self.model.add_module(\"Dropout2D_1\", nn.Dropout2d(p = 0.25))\n",
        "\n",
        "\n",
        "        self.model.add_module(\"conv2d_2\", nn.Conv2d(in_channels = 16, out_channels = 32,  # in_channels = out_channels of the previous layer\n",
        "                                               kernel_size = 3, padding = 1))             # padding = (kernel_size - 1) // 2\n",
        "\n",
        "        self.model.add_module(\"ReLU_2\", nn.ReLU())\n",
        "        self.model.add_module(\"MaxPool2D_2\", nn.MaxPool2d(kernel_size = 2, padding=1))    # padding = (kernel_size - 1) // 2\n",
        "        self.model.add_module('BatchNorm_2', nn.BatchNorm2d(num_features = 32))           # num features = out_channels of the conv2d layer\n",
        "        self.model.add_module(\"Dropout2D_2\", nn.Dropout2d(p = 0.25))\n",
        "\n",
        "\n",
        "        self.model.add_module(\"conv2d_3\", nn.Conv2d(in_channels = 32, out_channels = 64,  # in_channels = out_channels of the previous layer\n",
        "                                               kernel_size = 3, padding = 1))             # padding = (kernel_size - 1) // 2\n",
        "\n",
        "        self.model.add_module(\"ReLU_3\", nn.ReLU())\n",
        "        self.model.add_module(\"MaxPool2D_3\", nn.MaxPool2d(kernel_size = 2, padding=1))    # padding = (kernel_size - 1) // 2\n",
        "        self.model.add_module('BatchNorm_3', nn.BatchNorm2d(num_features = 64))           # num features = out_channels of the conv2d layer\n",
        "        self.model.add_module(\"Dropout2D_3\", nn.Dropout2d(p = 0.25))\n",
        "\n",
        "        \"\"\"self.model.add_module(\"Flatten\",nn.Flatten())\n",
        "        self.model.add_module(\"Dense\",nn.Linear(in_features = 64*(28-6)*(28-6)           # 64 2d channels/feature maps of size 22 x 22\n",
        "                                             , out_features = 10, bias=True))\"\"\"            # 10 output classes\n",
        "        self.model.add_module(\"Flatten\",nn.Flatten())\n",
        "        self.model.add_module(\"Dense\", nn.Linear(in_features = 64 * 5 * 5,  # x64 2d 5x5 channels/feature maps\n",
        "                                                 out_features=10))          # 10 output classes\n",
        "        self.model.add_module(\"softmax\", nn.LogSoftmax(dim=1) )\n",
        "\n",
        "\n",
        "    def forward(self, x):\n",
        "        return self.model(x)\n",
        "\n"
      ],
      "metadata": {
        "id": "YweN9Ov7u59z"
      },
      "execution_count": 3,
      "outputs": []
    },
    {
      "cell_type": "code",
      "source": [
        "# Specify the device (GPU or CPU)\n",
        "device = torch.device(\"cuda\" if torch.cuda.is_available() else \"cpu\")\n",
        "digit_classifier = DigitsClassifier().to(device)  # CPU by default\n",
        "print(f\"Model running on {device}\")"
      ],
      "metadata": {
        "colab": {
          "base_uri": "https://localhost:8080/"
        },
        "id": "c8LX7ZDnFhwS",
        "outputId": "799a20bf-becc-47d2-c42e-7c799d92f136"
      },
      "execution_count": 4,
      "outputs": [
        {
          "output_type": "stream",
          "name": "stdout",
          "text": [
            "Model running on cpu\n"
          ]
        }
      ]
    },
    {
      "cell_type": "code",
      "source": [
        "from torchsummary import summary\n",
        "summary(digit_classifier, input_size = (1, 28, 28))\n"
      ],
      "metadata": {
        "colab": {
          "base_uri": "https://localhost:8080/"
        },
        "id": "Zyon0RRfGsV_",
        "outputId": "dec50c36-45a6-42e0-984d-2bfdcc390879"
      },
      "execution_count": 5,
      "outputs": [
        {
          "output_type": "stream",
          "name": "stdout",
          "text": [
            "----------------------------------------------------------------\n",
            "        Layer (type)               Output Shape         Param #\n",
            "================================================================\n",
            "            Conv2d-1           [-1, 16, 28, 28]             160\n",
            "              ReLU-2           [-1, 16, 28, 28]               0\n",
            "         MaxPool2d-3           [-1, 16, 15, 15]               0\n",
            "       BatchNorm2d-4           [-1, 16, 15, 15]              32\n",
            "         Dropout2d-5           [-1, 16, 15, 15]               0\n",
            "            Conv2d-6           [-1, 32, 15, 15]           4,640\n",
            "              ReLU-7           [-1, 32, 15, 15]               0\n",
            "         MaxPool2d-8             [-1, 32, 8, 8]               0\n",
            "       BatchNorm2d-9             [-1, 32, 8, 8]              64\n",
            "        Dropout2d-10             [-1, 32, 8, 8]               0\n",
            "           Conv2d-11             [-1, 64, 8, 8]          18,496\n",
            "             ReLU-12             [-1, 64, 8, 8]               0\n",
            "        MaxPool2d-13             [-1, 64, 5, 5]               0\n",
            "      BatchNorm2d-14             [-1, 64, 5, 5]             128\n",
            "        Dropout2d-15             [-1, 64, 5, 5]               0\n",
            "          Flatten-16                 [-1, 1600]               0\n",
            "           Linear-17                   [-1, 10]          16,010\n",
            "       LogSoftmax-18                   [-1, 10]               0\n",
            "================================================================\n",
            "Total params: 39,530\n",
            "Trainable params: 39,530\n",
            "Non-trainable params: 0\n",
            "----------------------------------------------------------------\n",
            "Input size (MB): 0.00\n",
            "Forward/backward pass size (MB): 0.54\n",
            "Params size (MB): 0.15\n",
            "Estimated Total Size (MB): 0.70\n",
            "----------------------------------------------------------------\n"
          ]
        }
      ]
    },
    {
      "cell_type": "code",
      "source": [
        "# hyperparameters\n",
        "EPOCHS = 25\n",
        "LR = 1e-3\n",
        "\n",
        "# optimizing model parameters with a leaerning rate of 1e-3\n",
        "opt = Adam(params = digit_classifier.parameters(), lr = LR)\n",
        "\n",
        "# specifying the loss function as cross entropy\n",
        "loss_fn = nn.CrossEntropyLoss()"
      ],
      "metadata": {
        "id": "ZWQAgqxnZHCt"
      },
      "execution_count": 6,
      "outputs": []
    },
    {
      "cell_type": "code",
      "source": [
        "# Training flow\n",
        "\n",
        "losses = []\n",
        "accuracies = []\n",
        "losses_per_batch = []\n",
        "\n",
        "\n",
        "beg = time()\n",
        "for epoch in range(EPOCHS):\n",
        "    for batch in train_dataset:\n",
        "        \n",
        "        # unpacking input features and labels\n",
        "        x, y = batch\n",
        "        # Move the input data and labels to the specified device\n",
        "        x, y = x.to(device), y.to(device)\n",
        "        # yhat == predicted label\n",
        "        yhat = digit_classifier(x)\n",
        "        loss = loss_fn(yhat, y)\n",
        "\n",
        "        # backpropagation\n",
        "        opt.zero_grad()     # zero out the gradient\n",
        "        loss.backward()     # Computes the gradient of current loss\n",
        "        opt.step()          # optimize i.e update model paramerters to reduce loss\n",
        "\n",
        "        #losses_per_batch.append(loss)\n",
        "\n",
        "    print(f\"Epoch {epoch} : train_loss : {loss:.4f}\")\n",
        "    #print(yhat.shape)\n",
        "    losses.append(loss.item())\n",
        "\n",
        "duration = int(time() - beg)\n",
        "print(f\"training on {device} lasted for {duration // 60 } min {duration % 60} sec\")\n"
      ],
      "metadata": {
        "colab": {
          "base_uri": "https://localhost:8080/"
        },
        "id": "Bl2GrlBbcn89",
        "outputId": "33a221c2-61d6-4e53-eab5-4faa6a69ffc1"
      },
      "execution_count": 7,
      "outputs": [
        {
          "output_type": "stream",
          "name": "stdout",
          "text": [
            "Epoch 0 : train_loss : 0.3084\n",
            "Epoch 1 : train_loss : 0.0768\n",
            "Epoch 2 : train_loss : 0.0189\n",
            "Epoch 3 : train_loss : 0.0241\n",
            "Epoch 4 : train_loss : 0.0188\n",
            "Epoch 5 : train_loss : 0.1134\n",
            "Epoch 6 : train_loss : 0.0054\n",
            "Epoch 7 : train_loss : 0.0078\n",
            "Epoch 8 : train_loss : 0.0134\n",
            "Epoch 9 : train_loss : 0.0103\n",
            "Epoch 10 : train_loss : 0.0013\n",
            "Epoch 11 : train_loss : 0.0099\n",
            "Epoch 12 : train_loss : 0.0006\n",
            "Epoch 13 : train_loss : 0.0220\n",
            "Epoch 14 : train_loss : 0.2354\n",
            "Epoch 15 : train_loss : 0.0643\n",
            "Epoch 16 : train_loss : 0.0025\n",
            "Epoch 17 : train_loss : 0.0175\n",
            "Epoch 18 : train_loss : 0.0020\n",
            "Epoch 19 : train_loss : 0.0010\n",
            "Epoch 20 : train_loss : 0.0064\n",
            "Epoch 21 : train_loss : 0.0014\n",
            "Epoch 22 : train_loss : 0.0376\n",
            "Epoch 23 : train_loss : 0.1635\n",
            "Epoch 24 : train_loss : 0.0303\n",
            "training on cpu lasted for 16 min 4 sec\n"
          ]
        }
      ]
    },
    {
      "cell_type": "code",
      "source": [
        "# saving the model\n",
        "with open('model_state.pt', 'wb') as f: \n",
        "    save(digit_classifier.state_dict(), f) \n"
      ],
      "metadata": {
        "id": "hnvPfmfUr-1Q"
      },
      "execution_count": 8,
      "outputs": []
    },
    {
      "cell_type": "code",
      "source": [
        "\n",
        "# run predictions :\n",
        "\n",
        "# load model params\n",
        "with open('model_state.pt', 'rb') as f: \n",
        "    digit_classifier.load_state_dict(load(f)) \n",
        "\n",
        "fig = plt.figure(figsize=(8, 5))\n",
        "images = ['img_3.jpg', 'img_2.jpg', 'img_1.jpg']\n",
        "\n",
        "for i , image in enumerate(images):\n",
        "\n",
        "    fig.add_subplot(1, len(images), i+1)\n",
        "\n",
        "    img = Image.open(image) \n",
        "    plt.imshow(img)\n",
        "    plt.axis('off') \n",
        "\n",
        "    # preprocessing input   \n",
        "    img_tensor = ToTensor()(img).unsqueeze(0).to(device)\n",
        "    # running inference\n",
        "    label = torch.argmax(digit_classifier(img_tensor)).item()\n",
        "    plt.title(f\"Prediction = {str(label)}\")\n",
        "\n",
        "\n",
        "    #print(label)"
      ],
      "metadata": {
        "colab": {
          "base_uri": "https://localhost:8080/",
          "height": 241
        },
        "id": "7LoU_nZAAoPV",
        "outputId": "cbfeaf7a-fe7a-4edb-ae18-dca4cd32c6e6"
      },
      "execution_count": 9,
      "outputs": [
        {
          "output_type": "display_data",
          "data": {
            "text/plain": [
              "<Figure size 800x500 with 3 Axes>"
            ],
            "image/png": "[encoded data removed]"
          },
          "metadata": {}
        }
      ]
    },
    {
      "cell_type": "code",
      "source": [
        "print(losses)\n",
        "print(len(losses))\n",
        "#print(range(5))\n",
        "# Plot the loss curve\n",
        "plt.plot([i for i in range(EPOCHS)], losses)\n",
        "\n",
        "# Add labels and title\n",
        "plt.xlabel('epoch')\n",
        "plt.ylabel('train loss')\n",
        "plt.title('train loss evolution through epochs')\n",
        "plt.legend(['train loss'], loc='upper left')\n",
        "# Display the plot\n",
        "plt.show()\n"
      ],
      "metadata": {
        "colab": {
          "base_uri": "https://localhost:8080/",
          "height": 527
        },
        "id": "KStmEaUfhZrp",
        "outputId": "1e70dc01-6ae9-46d7-a367-82a5a3e0bf15"
      },
      "execution_count": 10,
      "outputs": [
        {
          "output_type": "stream",
          "name": "stdout",
          "text": [
            "[0.30840766429901123, 0.07676935195922852, 0.018864046782255173, 0.02408142387866974, 0.018810711801052094, 0.1133894994854927, 0.00535312294960022, 0.0077715180814266205, 0.013366572558879852, 0.010342005640268326, 0.0012854983797296882, 0.00988083891570568, 0.000643374805804342, 0.021996933966875076, 0.23537445068359375, 0.06430727988481522, 0.0025265468284487724, 0.017534499987959862, 0.002014968078583479, 0.001032412750646472, 0.006389974150806665, 0.0014054448110982776, 0.03763658180832863, 0.1635209619998932, 0.030256349593400955]\n",
            "25\n"
          ]
        },
        {
          "output_type": "display_data",
          "data": {
            "text/plain": [
              "<Figure size 640x480 with 1 Axes>"
            ],
            "image/png": "[encoded data removed]"
          },
          "metadata": {}
        }
      ]
    }
  ]
}