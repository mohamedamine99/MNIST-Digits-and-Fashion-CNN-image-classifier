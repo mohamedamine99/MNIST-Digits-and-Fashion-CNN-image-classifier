{
  "nbformat": 4,
  "nbformat_minor": 0,
  "metadata": {
    "colab": {
      "provenance": []
    },
    "kernelspec": {
      "name": "python3",
      "display_name": "Python 3"
    },
    "language_info": {
      "name": "python"
    },
    "accelerator": "GPU",
    "gpuClass": "standard"
  },
  "cells": [
    {
      "cell_type": "markdown",
      "source": [
        "**Imports**"
      ],
      "metadata": {
        "id": "ON1KKZN9Wvm9"
      }
    },
    {
      "cell_type": "code",
      "execution_count": null,
      "metadata": {
        "id": "hlZqs1wfWkb1"
      },
      "outputs": [],
      "source": [
        "from tensorflow import keras\n",
        "import numpy as np\n",
        "import pandas as pd\n",
        "import matplotlib.pyplot as plt"
      ]
    },
    {
      "cell_type": "markdown",
      "source": [
        "loading the dataset"
      ],
      "metadata": {
        "id": "kxiCpgSwXcoq"
      }
    },
    {
      "cell_type": "code",
      "source": [
        "from keras.datasets import mnist\n",
        "(x_train, y_train), (x_test, y_test) = mnist.load_data()"
      ],
      "metadata": {
        "id": "SdZ5roCCXvtT"
      },
      "execution_count": null,
      "outputs": []
    },
    {
      "cell_type": "markdown",
      "source": [
        "exploring the data"
      ],
      "metadata": {
        "id": "ZF58dyYbcSEC"
      }
    },
    {
      "cell_type": "code",
      "source": [
        "print(type(x_train))\n",
        "print(type(y_train[5]))\n",
        "print(x_train.shape)\n",
        "print(y_train.shape)\n",
        "print(x_test.shape)\n",
        "print(y_test.shape)\n"
      ],
      "metadata": {
        "colab": {
          "base_uri": "https://localhost:8080/"
        },
        "id": "-8YmrRCncCUF",
        "outputId": "1b20184a-9c96-4306-a635-c178b5d43e68"
      },
      "execution_count": null,
      "outputs": [
        {
          "output_type": "stream",
          "name": "stdout",
          "text": [
            "<class 'numpy.ndarray'>\n",
            "<class 'numpy.uint8'>\n",
            "(60000, 28, 28)\n",
            "(60000,)\n",
            "(10000, 28, 28)\n",
            "(10000,)\n"
          ]
        }
      ]
    },
    {
      "cell_type": "markdown",
      "source": [
        "visualize training data"
      ],
      "metadata": {
        "id": "vnt5rDOs0cIr"
      }
    },
    {
      "cell_type": "code",
      "source": [
        "import random\n",
        "\n",
        "def visualize_mnist_data(data ,labels = None , n_samples = 10, title = ''):\n",
        "  fig, axs = plt.subplots(1,n_samples)\n",
        "  for  ax , i in zip(axs,random.sample(range(len(data)), n_samples)):\n",
        "    \n",
        "    ax.imshow(data[i], cmap = 'gray')\n",
        "    ax.set_title(labels[i])\n",
        "    ax.axis(\"off\")\n",
        "    fig.suptitle(title)\n",
        "    #fig.tight_layout()\n",
        "    fig.subplots_adjust(top =0.9,bottom=0.7)\n",
        "\n",
        "visualize_mnist_data(x_train,y_train,10 , \"training\")\n",
        "visualize_mnist_data(x_test,y_test,10, \"testing\")"
      ],
      "metadata": {
        "colab": {
          "base_uri": "https://localhost:8080/",
          "height": 177
        },
        "id": "aR6FnmEWc_m-",
        "outputId": "5845bdc1-ce5e-4f5a-f070-cd633ffdcfce"
      },
      "execution_count": null,
      "outputs": [
        {
          "output_type": "display_data",
          "data": {
            "text/plain": [
              "<Figure size 432x288 with 10 Axes>"
            ],
            "image/png": "[encoded data removed]"
          },
          "metadata": {
            "needs_background": "light"
          }
        },
        {
          "output_type": "display_data",
          "data": {
            "text/plain": [
              "<Figure size 432x288 with 10 Axes>"
            ],
            "image/png": "[encoded data removed]"
          },
          "metadata": {
            "needs_background": "light"
          }
        }
      ]
    },
    {
      "cell_type": "markdown",
      "source": [
        "preprocessing data"
      ],
      "metadata": {
        "id": "_ohxfzwa9jbF"
      }
    },
    {
      "cell_type": "code",
      "source": [
        "from keras.utils import to_categorical\n",
        "\n",
        "x_train = x_train.reshape((x_train.shape[0], 28, 28, 1))\n",
        "x_test = x_test.reshape((x_test.shape[0], 28, 28, 1))\n",
        "\n",
        "x_train = x_train / 255.0\n",
        "x_test = x_test / 255.0\n",
        "\n",
        "ohe_y_train = to_categorical(y_train)\n",
        "ohe_y_test = to_categorical(y_test)\n",
        "print(ohe_y_train.shape)\n",
        "print(ohe_y_train[:15])"
      ],
      "metadata": {
        "colab": {
          "base_uri": "https://localhost:8080/"
        },
        "id": "MpRmjyWzigid",
        "outputId": "468434cd-85a5-4a55-b8db-7b7688e721ed"
      },
      "execution_count": null,
      "outputs": [
        {
          "output_type": "stream",
          "name": "stdout",
          "text": [
            "(60000, 10)\n",
            "[[0. 0. 0. 0. 0. 1. 0. 0. 0. 0.]\n",
            " [1. 0. 0. 0. 0. 0. 0. 0. 0. 0.]\n",
            " [0. 0. 0. 0. 1. 0. 0. 0. 0. 0.]\n",
            " [0. 1. 0. 0. 0. 0. 0. 0. 0. 0.]\n",
            " [0. 0. 0. 0. 0. 0. 0. 0. 0. 1.]\n",
            " [0. 0. 1. 0. 0. 0. 0. 0. 0. 0.]\n",
            " [0. 1. 0. 0. 0. 0. 0. 0. 0. 0.]\n",
            " [0. 0. 0. 1. 0. 0. 0. 0. 0. 0.]\n",
            " [0. 1. 0. 0. 0. 0. 0. 0. 0. 0.]\n",
            " [0. 0. 0. 0. 1. 0. 0. 0. 0. 0.]\n",
            " [0. 0. 0. 1. 0. 0. 0. 0. 0. 0.]\n",
            " [0. 0. 0. 0. 0. 1. 0. 0. 0. 0.]\n",
            " [0. 0. 0. 1. 0. 0. 0. 0. 0. 0.]\n",
            " [0. 0. 0. 0. 0. 0. 1. 0. 0. 0.]\n",
            " [0. 1. 0. 0. 0. 0. 0. 0. 0. 0.]]\n"
          ]
        }
      ]
    },
    {
      "cell_type": "markdown",
      "source": [
        "building the model"
      ],
      "metadata": {
        "id": "I-17MMymEBRa"
      }
    },
    {
      "cell_type": "code",
      "source": [
        "from keras.layers import Conv2D, Dense, Flatten,Dropout, BatchNormalization, MaxPooling2D\n",
        "from keras.models import Sequential\n",
        "\n",
        "\n",
        "model = Sequential()\n",
        "\n",
        "model.add(Conv2D(filters = 16,kernel_size = 3, padding=\"same\",activation = \"relu\" , input_shape = (28,28,1)))\n",
        "model.add(MaxPooling2D(pool_size=(2, 2), padding = 'same'))\n",
        "model.add(BatchNormalization())\n",
        "model.add(Dropout(0.25))\n",
        "\n",
        "model.add(Conv2D(filters = 32,kernel_size = 3, padding=\"same\",activation = \"relu\"))\n",
        "model.add(MaxPooling2D(pool_size=(2, 2), padding = 'same'))\n",
        "model.add(BatchNormalization())\n",
        "model.add(Dropout(0.25))\n",
        "\n",
        "model.add(Conv2D(filters = 64,kernel_size = 3, padding=\"same\",activation = \"relu\"))\n",
        "model.add(MaxPooling2D(pool_size=(2, 2), padding = 'same'))\n",
        "model.add(BatchNormalization())\n",
        "model.add(Dropout(0.25))\n",
        "\n",
        "model.add(Flatten())\n",
        "model.add(Dense(10 , activation = \"softmax\"))\n",
        "\n",
        "model.summary()\n"
      ],
      "metadata": {
        "colab": {
          "base_uri": "https://localhost:8080/"
        },
        "id": "YF1jv1ev9uij",
        "outputId": "073fff3f-52a0-4b84-90bc-f75b992990c3"
      },
      "execution_count": null,
      "outputs": [
        {
          "output_type": "stream",
          "name": "stdout",
          "text": [
            "Model: \"sequential_2\"\n",
            "_________________________________________________________________\n",
            " Layer (type)                Output Shape              Param #   \n",
            "=================================================================\n",
            " conv2d_6 (Conv2D)           (None, 28, 28, 16)        160       \n",
            "                                                                 \n",
            " max_pooling2d_6 (MaxPooling  (None, 14, 14, 16)       0         \n",
            " 2D)                                                             \n",
            "                                                                 \n",
            " batch_normalization_6 (Batc  (None, 14, 14, 16)       64        \n",
            " hNormalization)                                                 \n",
            "                                                                 \n",
            " dropout_6 (Dropout)         (None, 14, 14, 16)        0         \n",
            "                                                                 \n",
            " conv2d_7 (Conv2D)           (None, 14, 14, 32)        4640      \n",
            "                                                                 \n",
            " max_pooling2d_7 (MaxPooling  (None, 7, 7, 32)         0         \n",
            " 2D)                                                             \n",
            "                                                                 \n",
            " batch_normalization_7 (Batc  (None, 7, 7, 32)         128       \n",
            " hNormalization)                                                 \n",
            "                                                                 \n",
            " dropout_7 (Dropout)         (None, 7, 7, 32)          0         \n",
            "                                                                 \n",
            " conv2d_8 (Conv2D)           (None, 7, 7, 64)          18496     \n",
            "                                                                 \n",
            " max_pooling2d_8 (MaxPooling  (None, 4, 4, 64)         0         \n",
            " 2D)                                                             \n",
            "                                                                 \n",
            " batch_normalization_8 (Batc  (None, 4, 4, 64)         256       \n",
            " hNormalization)                                                 \n",
            "                                                                 \n",
            " dropout_8 (Dropout)         (None, 4, 4, 64)          0         \n",
            "                                                                 \n",
            " flatten_2 (Flatten)         (None, 1024)              0         \n",
            "                                                                 \n",
            " dense_2 (Dense)             (None, 10)                10250     \n",
            "                                                                 \n",
            "=================================================================\n",
            "Total params: 33,994\n",
            "Trainable params: 33,770\n",
            "Non-trainable params: 224\n",
            "_________________________________________________________________\n"
          ]
        }
      ]
    },
    {
      "cell_type": "markdown",
      "source": [
        "compiling the model"
      ],
      "metadata": {
        "id": "1nQN8ldQOGZ2"
      }
    },
    {
      "cell_type": "code",
      "source": [
        "model.compile(optimizer = 'adam',loss = 'categorical_crossentropy', metrics = ['accuracy'])"
      ],
      "metadata": {
        "id": "GziUFAeUG9GN"
      },
      "execution_count": null,
      "outputs": []
    },
    {
      "cell_type": "code",
      "source": [
        "from keras.callbacks import EarlyStopping\n",
        "\n",
        "callbacks = [EarlyStopping(patience= 10)]\n",
        "history = model.fit(x_train, ohe_y_train, batch_size= 1024,epochs = 100, validation_split = 0.15, callbacks = callbacks)"
      ],
      "metadata": {
        "colab": {
          "base_uri": "https://localhost:8080/"
        },
        "id": "EvUq3GuGOYf3",
        "outputId": "96cbf9f9-0666-4e5b-dc79-5867bae1945c"
      },
      "execution_count": null,
      "outputs": [
        {
          "output_type": "stream",
          "name": "stdout",
          "text": [
            "Epoch 1/100\n",
            "50/50 [==============================] - 2s 26ms/step - loss: 0.8618 - accuracy: 0.7257 - val_loss: 2.6008 - val_accuracy: 0.1063\n",
            "Epoch 2/100\n",
            "50/50 [==============================] - 1s 20ms/step - loss: 0.2311 - accuracy: 0.9271 - val_loss: 3.8150 - val_accuracy: 0.1063\n",
            "Epoch 3/100\n",
            "50/50 [==============================] - 1s 21ms/step - loss: 0.1563 - accuracy: 0.9515 - val_loss: 4.3407 - val_accuracy: 0.1063\n",
            "Epoch 4/100\n",
            "50/50 [==============================] - 1s 22ms/step - loss: 0.1229 - accuracy: 0.9614 - val_loss: 4.2465 - val_accuracy: 0.1063\n",
            "Epoch 5/100\n",
            "50/50 [==============================] - 1s 20ms/step - loss: 0.1055 - accuracy: 0.9658 - val_loss: 2.9745 - val_accuracy: 0.1504\n",
            "Epoch 6/100\n",
            "50/50 [==============================] - 1s 20ms/step - loss: 0.0891 - accuracy: 0.9724 - val_loss: 1.8923 - val_accuracy: 0.3636\n",
            "Epoch 7/100\n",
            "50/50 [==============================] - 1s 20ms/step - loss: 0.0817 - accuracy: 0.9736 - val_loss: 1.0108 - val_accuracy: 0.6164\n",
            "Epoch 8/100\n",
            "50/50 [==============================] - 1s 20ms/step - loss: 0.0772 - accuracy: 0.9755 - val_loss: 0.5629 - val_accuracy: 0.7862\n",
            "Epoch 9/100\n",
            "50/50 [==============================] - 1s 21ms/step - loss: 0.0692 - accuracy: 0.9776 - val_loss: 0.3309 - val_accuracy: 0.8854\n",
            "Epoch 10/100\n",
            "50/50 [==============================] - 1s 20ms/step - loss: 0.0646 - accuracy: 0.9798 - val_loss: 0.1763 - val_accuracy: 0.9423\n",
            "Epoch 11/100\n",
            "50/50 [==============================] - 1s 20ms/step - loss: 0.0586 - accuracy: 0.9811 - val_loss: 0.0982 - val_accuracy: 0.9676\n",
            "Epoch 12/100\n",
            "50/50 [==============================] - 1s 21ms/step - loss: 0.0580 - accuracy: 0.9813 - val_loss: 0.0643 - val_accuracy: 0.9801\n",
            "Epoch 13/100\n",
            "50/50 [==============================] - 1s 20ms/step - loss: 0.0553 - accuracy: 0.9817 - val_loss: 0.0476 - val_accuracy: 0.9857\n",
            "Epoch 14/100\n",
            "50/50 [==============================] - 1s 20ms/step - loss: 0.0508 - accuracy: 0.9833 - val_loss: 0.0452 - val_accuracy: 0.9868\n",
            "Epoch 15/100\n",
            "50/50 [==============================] - 1s 21ms/step - loss: 0.0507 - accuracy: 0.9834 - val_loss: 0.0387 - val_accuracy: 0.9883\n",
            "Epoch 16/100\n",
            "50/50 [==============================] - 1s 20ms/step - loss: 0.0480 - accuracy: 0.9848 - val_loss: 0.0366 - val_accuracy: 0.9896\n",
            "Epoch 17/100\n",
            "50/50 [==============================] - 1s 20ms/step - loss: 0.0474 - accuracy: 0.9846 - val_loss: 0.0355 - val_accuracy: 0.9884\n",
            "Epoch 18/100\n",
            "50/50 [==============================] - 1s 20ms/step - loss: 0.0461 - accuracy: 0.9853 - val_loss: 0.0352 - val_accuracy: 0.9893\n",
            "Epoch 19/100\n",
            "50/50 [==============================] - 1s 21ms/step - loss: 0.0434 - accuracy: 0.9862 - val_loss: 0.0328 - val_accuracy: 0.9909\n",
            "Epoch 20/100\n",
            "50/50 [==============================] - 1s 25ms/step - loss: 0.0400 - accuracy: 0.9873 - val_loss: 0.0337 - val_accuracy: 0.9907\n",
            "Epoch 21/100\n",
            "50/50 [==============================] - 1s 20ms/step - loss: 0.0393 - accuracy: 0.9872 - val_loss: 0.0317 - val_accuracy: 0.9907\n",
            "Epoch 22/100\n",
            "50/50 [==============================] - 1s 20ms/step - loss: 0.0386 - accuracy: 0.9872 - val_loss: 0.0320 - val_accuracy: 0.9907\n",
            "Epoch 23/100\n",
            "50/50 [==============================] - 1s 20ms/step - loss: 0.0374 - accuracy: 0.9876 - val_loss: 0.0344 - val_accuracy: 0.9906\n",
            "Epoch 24/100\n",
            "50/50 [==============================] - 1s 21ms/step - loss: 0.0367 - accuracy: 0.9881 - val_loss: 0.0335 - val_accuracy: 0.9907\n",
            "Epoch 25/100\n",
            "50/50 [==============================] - 1s 22ms/step - loss: 0.0357 - accuracy: 0.9877 - val_loss: 0.0322 - val_accuracy: 0.9909\n",
            "Epoch 26/100\n",
            "50/50 [==============================] - 1s 21ms/step - loss: 0.0354 - accuracy: 0.9887 - val_loss: 0.0295 - val_accuracy: 0.9912\n",
            "Epoch 27/100\n",
            "50/50 [==============================] - 1s 22ms/step - loss: 0.0337 - accuracy: 0.9888 - val_loss: 0.0310 - val_accuracy: 0.9916\n",
            "Epoch 28/100\n",
            "50/50 [==============================] - 1s 23ms/step - loss: 0.0337 - accuracy: 0.9889 - val_loss: 0.0288 - val_accuracy: 0.9920\n",
            "Epoch 29/100\n",
            "50/50 [==============================] - 1s 22ms/step - loss: 0.0326 - accuracy: 0.9894 - val_loss: 0.0302 - val_accuracy: 0.9920\n",
            "Epoch 30/100\n",
            "50/50 [==============================] - 1s 21ms/step - loss: 0.0327 - accuracy: 0.9888 - val_loss: 0.0307 - val_accuracy: 0.9916\n",
            "Epoch 31/100\n",
            "50/50 [==============================] - 1s 20ms/step - loss: 0.0328 - accuracy: 0.9894 - val_loss: 0.0321 - val_accuracy: 0.9907\n",
            "Epoch 32/100\n",
            "50/50 [==============================] - 1s 21ms/step - loss: 0.0304 - accuracy: 0.9901 - val_loss: 0.0312 - val_accuracy: 0.9913\n",
            "Epoch 33/100\n",
            "50/50 [==============================] - 1s 21ms/step - loss: 0.0290 - accuracy: 0.9905 - val_loss: 0.0277 - val_accuracy: 0.9926\n",
            "Epoch 34/100\n",
            "50/50 [==============================] - 1s 20ms/step - loss: 0.0302 - accuracy: 0.9896 - val_loss: 0.0278 - val_accuracy: 0.9923\n",
            "Epoch 35/100\n",
            "50/50 [==============================] - 1s 21ms/step - loss: 0.0291 - accuracy: 0.9905 - val_loss: 0.0292 - val_accuracy: 0.9924\n",
            "Epoch 36/100\n",
            "50/50 [==============================] - 1s 24ms/step - loss: 0.0288 - accuracy: 0.9902 - val_loss: 0.0287 - val_accuracy: 0.9926\n",
            "Epoch 37/100\n",
            "50/50 [==============================] - 1s 28ms/step - loss: 0.0276 - accuracy: 0.9908 - val_loss: 0.0296 - val_accuracy: 0.9922\n",
            "Epoch 38/100\n",
            "50/50 [==============================] - 1s 25ms/step - loss: 0.0269 - accuracy: 0.9914 - val_loss: 0.0284 - val_accuracy: 0.9926\n",
            "Epoch 39/100\n",
            "50/50 [==============================] - 1s 21ms/step - loss: 0.0267 - accuracy: 0.9914 - val_loss: 0.0290 - val_accuracy: 0.9922\n",
            "Epoch 40/100\n",
            "50/50 [==============================] - 1s 21ms/step - loss: 0.0255 - accuracy: 0.9915 - val_loss: 0.0266 - val_accuracy: 0.9928\n",
            "Epoch 41/100\n",
            "50/50 [==============================] - 1s 21ms/step - loss: 0.0251 - accuracy: 0.9911 - val_loss: 0.0282 - val_accuracy: 0.9926\n",
            "Epoch 42/100\n",
            "50/50 [==============================] - 1s 20ms/step - loss: 0.0238 - accuracy: 0.9920 - val_loss: 0.0300 - val_accuracy: 0.9923\n",
            "Epoch 43/100\n",
            "50/50 [==============================] - 1s 21ms/step - loss: 0.0244 - accuracy: 0.9916 - val_loss: 0.0293 - val_accuracy: 0.9923\n",
            "Epoch 44/100\n",
            "50/50 [==============================] - 1s 21ms/step - loss: 0.0245 - accuracy: 0.9915 - val_loss: 0.0257 - val_accuracy: 0.9933\n",
            "Epoch 45/100\n",
            "50/50 [==============================] - 1s 21ms/step - loss: 0.0223 - accuracy: 0.9926 - val_loss: 0.0289 - val_accuracy: 0.9929\n",
            "Epoch 46/100\n",
            "50/50 [==============================] - 1s 22ms/step - loss: 0.0239 - accuracy: 0.9918 - val_loss: 0.0265 - val_accuracy: 0.9934\n",
            "Epoch 47/100\n",
            "50/50 [==============================] - 1s 21ms/step - loss: 0.0229 - accuracy: 0.9920 - val_loss: 0.0284 - val_accuracy: 0.9931\n",
            "Epoch 48/100\n",
            "50/50 [==============================] - 1s 21ms/step - loss: 0.0226 - accuracy: 0.9925 - val_loss: 0.0280 - val_accuracy: 0.9927\n",
            "Epoch 49/100\n",
            "50/50 [==============================] - 1s 21ms/step - loss: 0.0230 - accuracy: 0.9927 - val_loss: 0.0293 - val_accuracy: 0.9923\n",
            "Epoch 50/100\n",
            "50/50 [==============================] - 1s 21ms/step - loss: 0.0214 - accuracy: 0.9925 - val_loss: 0.0277 - val_accuracy: 0.9929\n",
            "Epoch 51/100\n",
            "50/50 [==============================] - 1s 21ms/step - loss: 0.0230 - accuracy: 0.9921 - val_loss: 0.0279 - val_accuracy: 0.9934\n",
            "Epoch 52/100\n",
            "50/50 [==============================] - 1s 21ms/step - loss: 0.0195 - accuracy: 0.9934 - val_loss: 0.0290 - val_accuracy: 0.9929\n",
            "Epoch 53/100\n",
            "50/50 [==============================] - 1s 21ms/step - loss: 0.0201 - accuracy: 0.9928 - val_loss: 0.0282 - val_accuracy: 0.9934\n",
            "Epoch 54/100\n",
            "50/50 [==============================] - 1s 21ms/step - loss: 0.0213 - accuracy: 0.9927 - val_loss: 0.0269 - val_accuracy: 0.9932\n"
          ]
        }
      ]
    },
    {
      "cell_type": "code",
      "source": [
        "scores = model.evaluate(x_test, ohe_y_test, verbose=1)\n",
        "print(scores) \n",
        "print(\"accuracy is {} %\".format(100 * scores[1]))"
      ],
      "metadata": {
        "colab": {
          "base_uri": "https://localhost:8080/"
        },
        "id": "cFFQzLESOthb",
        "outputId": "3f6883aa-45ff-4190-9d3e-7ee12d599405"
      },
      "execution_count": null,
      "outputs": [
        {
          "output_type": "stream",
          "name": "stdout",
          "text": [
            "313/313 [==============================] - 1s 3ms/step - loss: 0.0211 - accuracy: 0.9921\n",
            "[0.02110494300723076, 0.9921000003814697]\n",
            "accuracy is 99.21000003814697 %\n"
          ]
        }
      ]
    },
    {
      "cell_type": "code",
      "source": [
        "print(x_test[30].shape)\n",
        "print(x_train[30].shape)\n",
        "\n",
        "predictions = model.predict(x_test[:1023])\n",
        "\n",
        "plt.imshow(x_test[30].reshape(28,28) * 255)\n",
        "print(\"prediction is {}\".format(np.argmax(predictions[30])) )"
      ],
      "metadata": {
        "colab": {
          "base_uri": "https://localhost:8080/",
          "height": 334
        },
        "id": "AXoCd93AVO56",
        "outputId": "0ea90f1f-eaf9-4651-c3f5-50b06f995170"
      },
      "execution_count": null,
      "outputs": [
        {
          "output_type": "stream",
          "name": "stdout",
          "text": [
            "(28, 28, 1)\n",
            "(28, 28, 1)\n",
            "32/32 [==============================] - 0s 3ms/step\n",
            "prediction is 3\n"
          ]
        },
        {
          "output_type": "display_data",
          "data": {
            "text/plain": [
              "<Figure size 432x288 with 1 Axes>"
            ],
            "image/png": "[encoded data removed]"
          },
          "metadata": {
            "needs_background": "light"
          }
        }
      ]
    },
    {
      "cell_type": "code",
      "source": [],
      "metadata": {
        "id": "3Eej-wY1msln"
      },
      "execution_count": null,
      "outputs": []
    }
  ]
}