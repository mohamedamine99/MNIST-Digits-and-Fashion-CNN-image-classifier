{
  "nbformat": 4,
  "nbformat_minor": 0,
  "metadata": {
    "colab": {
      "provenance": []
    },
    "kernelspec": {
      "name": "python3",
      "display_name": "Python 3"
    },
    "language_info": {
      "name": "python"
    },
    "accelerator": "GPU",
    "gpuClass": "standard"
  },
  "cells": [
    {
      "cell_type": "code",
      "execution_count": null,
      "metadata": {
        "id": "oHn7PTPeZStP"
      },
      "outputs": [],
      "source": [
        "from tensorflow.keras.datasets import fashion_mnist\n",
        "import matplotlib.pyplot as plt"
      ]
    },
    {
      "cell_type": "code",
      "source": [
        "(x_train, y_train),(x_test, y_test) = fashion_mnist.load_data()"
      ],
      "metadata": {
        "colab": {
          "base_uri": "https://localhost:8080/"
        },
        "id": "fS1YCpdiao8M",
        "outputId": "b340a9fc-9e39-43a5-e953-5ac1cdc05aae"
      },
      "execution_count": null,
      "outputs": [
        {
          "output_type": "stream",
          "name": "stdout",
          "text": [
            "Downloading data from https://storage.googleapis.com/tensorflow/tf-keras-datasets/train-labels-idx1-ubyte.gz\n",
            "29515/29515 [==============================] - 0s 0us/step\n",
            "Downloading data from https://storage.googleapis.com/tensorflow/tf-keras-datasets/train-images-idx3-ubyte.gz\n",
            "26421880/26421880 [==============================] - 2s 0us/step\n",
            "Downloading data from https://storage.googleapis.com/tensorflow/tf-keras-datasets/t10k-labels-idx1-ubyte.gz\n",
            "5148/5148 [==============================] - 0s 0us/step\n",
            "Downloading data from https://storage.googleapis.com/tensorflow/tf-keras-datasets/t10k-images-idx3-ubyte.gz\n",
            "4422102/4422102 [==============================] - 0s 0us/step\n"
          ]
        }
      ]
    },
    {
      "cell_type": "code",
      "source": [
        "print(\"x_train.shape = {}\".format(x_train.shape))\n",
        "print(\"x_test.shape = {}\".format(x_test.shape))\n",
        "print(\"y_train.shape = {}\".format(y_train.shape))\n",
        "print(\"y_test.shape = {}\".format(y_test.shape))\n"
      ],
      "metadata": {
        "colab": {
          "base_uri": "https://localhost:8080/"
        },
        "id": "M4tSrmfNbGDC",
        "outputId": "536aa58e-be94-4307-ab81-5325e891e313"
      },
      "execution_count": null,
      "outputs": [
        {
          "output_type": "stream",
          "name": "stdout",
          "text": [
            "x_train.shape = (60000, 28, 28)\n",
            "x_test.shape = (10000, 28, 28)\n",
            "y_train.shape = (60000,)\n",
            "y_test.shape = (10000,)\n"
          ]
        }
      ]
    },
    {
      "cell_type": "code",
      "source": [
        "print(y_test[10])\n",
        "plt.imshow(x_test[10])"
      ],
      "metadata": {
        "colab": {
          "base_uri": "https://localhost:8080/",
          "height": 300
        },
        "id": "W2mRSBpwbRoy",
        "outputId": "9af05e27-3d3d-45b7-cdcb-058046e96f07"
      },
      "execution_count": null,
      "outputs": [
        {
          "output_type": "stream",
          "name": "stdout",
          "text": [
            "4\n"
          ]
        },
        {
          "output_type": "execute_result",
          "data": {
            "text/plain": [
              "<matplotlib.image.AxesImage at 0x7f1256fdc8b0>"
            ]
          },
          "metadata": {},
          "execution_count": 4
        },
        {
          "output_type": "display_data",
          "data": {
            "text/plain": [
              "<Figure size 432x288 with 1 Axes>"
            ],
            "image/png": "[encoded data removed]"
          },
          "metadata": {
            "needs_background": "light"
          }
        }
      ]
    },
    {
      "cell_type": "code",
      "source": [
        "print(type(x_train[20]))\n",
        "print(type(x_test[20]))"
      ],
      "metadata": {
        "colab": {
          "base_uri": "https://localhost:8080/"
        },
        "id": "DPJc-XIhgDwJ",
        "outputId": "0c8d3e71-8362-4db2-936d-f84a6a7290bf"
      },
      "execution_count": null,
      "outputs": [
        {
          "output_type": "stream",
          "name": "stdout",
          "text": [
            "<class 'numpy.ndarray'>\n",
            "<class 'numpy.ndarray'>\n"
          ]
        }
      ]
    },
    {
      "cell_type": "code",
      "source": [
        "print(set(y_train))\n",
        "print(set(y_test))"
      ],
      "metadata": {
        "colab": {
          "base_uri": "https://localhost:8080/"
        },
        "id": "BRnM6Nk0fWd8",
        "outputId": "92b7ede6-d89c-48fd-b948-16d3cd47867c"
      },
      "execution_count": null,
      "outputs": [
        {
          "output_type": "stream",
          "name": "stdout",
          "text": [
            "{0, 1, 2, 3, 4, 5, 6, 7, 8, 9}\n",
            "{0, 1, 2, 3, 4, 5, 6, 7, 8, 9}\n"
          ]
        }
      ]
    },
    {
      "cell_type": "code",
      "source": [
        "import random\n",
        "\n",
        "fig, axs = plt.subplots(1,10)\n",
        "\n",
        "for ax in axs:\n",
        "  i = random.randint(0,3000)\n",
        "  ax.imshow(x_train[i])\n",
        "  ax.axis(\"off\")\n",
        "  ax.set_title(y_train[i])\n"
      ],
      "metadata": {
        "colab": {
          "base_uri": "https://localhost:8080/",
          "height": 75
        },
        "id": "QGwBxRlNbvc2",
        "outputId": "72dfc207-4e9d-4011-da9e-d7bc04ede494"
      },
      "execution_count": null,
      "outputs": [
        {
          "output_type": "display_data",
          "data": {
            "text/plain": [
              "<Figure size 432x288 with 10 Axes>"
            ],
            "image/png": "[encoded data removed]"
          },
          "metadata": {
            "needs_background": "light"
          }
        }
      ]
    },
    {
      "cell_type": "code",
      "source": [
        "fig, axs = plt.subplots(1,10)\n",
        "\n",
        "for ax in axs:\n",
        "  i = random.randint(0,3000)\n",
        "  ax.imshow(x_test[i])\n",
        "  ax.axis(\"off\")\n",
        "  ax.set_title(y_test[i])"
      ],
      "metadata": {
        "colab": {
          "base_uri": "https://localhost:8080/",
          "height": 75
        },
        "id": "V0uXv9NgekQi",
        "outputId": "f06f0960-cb1e-48cc-efa7-2dd6f554bcf2"
      },
      "execution_count": null,
      "outputs": [
        {
          "output_type": "display_data",
          "data": {
            "text/plain": [
              "<Figure size 432x288 with 10 Axes>"
            ],
            "image/png": "[encoded data removed]"
          },
          "metadata": {
            "needs_background": "light"
          }
        }
      ]
    },
    {
      "cell_type": "code",
      "source": [
        "N_SAMPLES_TRAIN = x_train.shape[0]\n",
        "N_SAMPLES_TEST = x_test.shape[0]\n",
        "HEIGHT = x_train.shape[1]\n",
        "WIDTH = x_train.shape[2]\n",
        "\n",
        "x_train = x_train.reshape(N_SAMPLES_TRAIN, HEIGHT, WIDTH, 1)\n",
        "x_test = x_test.reshape(N_SAMPLES_TEST, HEIGHT, WIDTH, 1)\n",
        "\n",
        "print(\"new x_train.shape : {}\".format(x_train.shape))\n",
        "print(\"new x_test.shape : {}\".format(x_test.shape))\n",
        "\n",
        "x_train = x_train / 255.0\n",
        "x_test = x_test / 255.0\n"
      ],
      "metadata": {
        "colab": {
          "base_uri": "https://localhost:8080/"
        },
        "id": "4xJzY3RQfl2V",
        "outputId": "7e8bdb70-6963-40fb-8045-ebcdf4375d57"
      },
      "execution_count": null,
      "outputs": [
        {
          "output_type": "stream",
          "name": "stdout",
          "text": [
            "new x_train.shape : (60000, 28, 28, 1)\n",
            "new x_test.shape : (10000, 28, 28, 1)\n"
          ]
        }
      ]
    },
    {
      "cell_type": "code",
      "source": [
        "from keras.utils import to_categorical\n",
        "\n",
        "labels = [\"T-shirt // top\" , \"Trouser\" , \"Pullover\" , \"Dress\" , \"Coat\", \"Sandal\", \"Shirt\", \"Sneaker\", \"Bag\", \"Ankle boot\"]\n",
        "y_train_ohe = to_categorical(y_train)\n",
        "y_test_ohe = to_categorical(y_test)\n",
        "\n",
        "print((y_train_ohe.shape))\n",
        "print((y_test_ohe.shape))\n",
        "print(y_train_ohe[random.randint(0,3000)])\n",
        "print(y_test_ohe[random.randint(0,3000)])\n",
        "\n"
      ],
      "metadata": {
        "colab": {
          "base_uri": "https://localhost:8080/"
        },
        "id": "W2cV563GgrmF",
        "outputId": "63b6cc72-5a34-4564-a0a4-a019a954f6b8"
      },
      "execution_count": null,
      "outputs": [
        {
          "output_type": "stream",
          "name": "stdout",
          "text": [
            "(60000, 10)\n",
            "(10000, 10)\n",
            "[0. 0. 0. 0. 1. 0. 0. 0. 0. 0.]\n",
            "[0. 0. 0. 1. 0. 0. 0. 0. 0. 0.]\n"
          ]
        }
      ]
    },
    {
      "cell_type": "code",
      "source": [
        "from tensorflow.keras.models import Sequential\n",
        "from tensorflow.keras.layers import Conv2D, MaxPool2D, BatchNormalization, Dropout, Flatten, Dense\n",
        "\n",
        "model = Sequential()\n",
        "\n",
        "model.add(Conv2D(32, 3, padding = 'same', input_shape = (HEIGHT, WIDTH, 1), activation = \"relu\"))\n",
        "model.add(MaxPool2D(padding = \"same\"))\n",
        "model.add(BatchNormalization())\n",
        "model.add(Dropout(0.25))\n",
        "\n",
        "model.add(Conv2D(64, 3, padding = 'same', activation = \"relu\"))\n",
        "model.add(MaxPool2D(padding = \"same\"))\n",
        "model.add(BatchNormalization())\n",
        "model.add(Dropout(0.25))\n",
        "\n",
        "model.add(Conv2D(128, 3, padding = 'same', activation = \"relu\"))\n",
        "model.add(MaxPool2D(padding = \"same\"))\n",
        "model.add(BatchNormalization())\n",
        "model.add(Dropout(0.25))\n",
        "\n",
        "model.add(Flatten())\n",
        "model.add(Dense(10, activation = \"softmax\"))\n",
        "\n",
        "model.summary()\n"
      ],
      "metadata": {
        "colab": {
          "base_uri": "https://localhost:8080/"
        },
        "id": "Jc9fQGQyjoMO",
        "outputId": "76626610-10d4-4f18-c9b1-a06556ffa771"
      },
      "execution_count": null,
      "outputs": [
        {
          "output_type": "stream",
          "name": "stdout",
          "text": [
            "Model: \"sequential\"\n",
            "_________________________________________________________________\n",
            " Layer (type)                Output Shape              Param #   \n",
            "=================================================================\n",
            " conv2d (Conv2D)             (None, 28, 28, 32)        320       \n",
            "                                                                 \n",
            " max_pooling2d (MaxPooling2D  (None, 14, 14, 32)       0         \n",
            " )                                                               \n",
            "                                                                 \n",
            " batch_normalization (BatchN  (None, 14, 14, 32)       128       \n",
            " ormalization)                                                   \n",
            "                                                                 \n",
            " dropout (Dropout)           (None, 14, 14, 32)        0         \n",
            "                                                                 \n",
            " conv2d_1 (Conv2D)           (None, 14, 14, 64)        18496     \n",
            "                                                                 \n",
            " max_pooling2d_1 (MaxPooling  (None, 7, 7, 64)         0         \n",
            " 2D)                                                             \n",
            "                                                                 \n",
            " batch_normalization_1 (Batc  (None, 7, 7, 64)         256       \n",
            " hNormalization)                                                 \n",
            "                                                                 \n",
            " dropout_1 (Dropout)         (None, 7, 7, 64)          0         \n",
            "                                                                 \n",
            " conv2d_2 (Conv2D)           (None, 7, 7, 128)         73856     \n",
            "                                                                 \n",
            " max_pooling2d_2 (MaxPooling  (None, 4, 4, 128)        0         \n",
            " 2D)                                                             \n",
            "                                                                 \n",
            " batch_normalization_2 (Batc  (None, 4, 4, 128)        512       \n",
            " hNormalization)                                                 \n",
            "                                                                 \n",
            " dropout_2 (Dropout)         (None, 4, 4, 128)         0         \n",
            "                                                                 \n",
            " flatten (Flatten)           (None, 2048)              0         \n",
            "                                                                 \n",
            " dense (Dense)               (None, 10)                20490     \n",
            "                                                                 \n",
            "=================================================================\n",
            "Total params: 114,058\n",
            "Trainable params: 113,610\n",
            "Non-trainable params: 448\n",
            "_________________________________________________________________\n"
          ]
        }
      ]
    },
    {
      "cell_type": "code",
      "source": [
        "model.compile(optimizer = \"adam\" , loss = \"categorical_crossentropy\", metrics = ['accuracy'])"
      ],
      "metadata": {
        "id": "pdkh2Sb5khlA"
      },
      "execution_count": null,
      "outputs": []
    },
    {
      "cell_type": "code",
      "source": [
        "from tensorflow.keras.callbacks import EarlyStopping, ModelCheckpoint, ReduceLROnPlateau\n"
      ],
      "metadata": {
        "id": "k2zMsb9rnHPl"
      },
      "execution_count": null,
      "outputs": []
    },
    {
      "cell_type": "code",
      "source": [
        "callbacks = [EarlyStopping(patience= 10), ModelCheckpoint(\"model_1.h5\"), ReduceLROnPlateau()]\n",
        "history = model.fit(x = x_train, y= y_train_ohe, batch_size= 1024, epochs = 50, validation_split=0.2, callbacks=callbacks)"
      ],
      "metadata": {
        "colab": {
          "base_uri": "https://localhost:8080/"
        },
        "id": "WgaRRZtKmZCv",
        "outputId": "d197f277-bca9-41ff-9fa8-1675cdf9f27d"
      },
      "execution_count": null,
      "outputs": [
        {
          "output_type": "stream",
          "name": "stdout",
          "text": [
            "Epoch 1/50\n",
            "47/47 [==============================] - 12s 58ms/step - loss: 0.7813 - accuracy: 0.7283 - val_loss: 2.0815 - val_accuracy: 0.2675 - lr: 0.0010\n",
            "Epoch 2/50\n",
            "47/47 [==============================] - 2s 38ms/step - loss: 0.4579 - accuracy: 0.8364 - val_loss: 2.1582 - val_accuracy: 0.1214 - lr: 0.0010\n",
            "Epoch 3/50\n",
            "47/47 [==============================] - 2s 38ms/step - loss: 0.3942 - accuracy: 0.8562 - val_loss: 2.2650 - val_accuracy: 0.2488 - lr: 0.0010\n",
            "Epoch 4/50\n",
            "47/47 [==============================] - 2s 38ms/step - loss: 0.3611 - accuracy: 0.8719 - val_loss: 2.2126 - val_accuracy: 0.2775 - lr: 0.0010\n",
            "Epoch 5/50\n",
            "47/47 [==============================] - 2s 38ms/step - loss: 0.3341 - accuracy: 0.8799 - val_loss: 1.9415 - val_accuracy: 0.3823 - lr: 0.0010\n",
            "Epoch 6/50\n",
            "47/47 [==============================] - 2s 38ms/step - loss: 0.3130 - accuracy: 0.8857 - val_loss: 1.7615 - val_accuracy: 0.3985 - lr: 0.0010\n",
            "Epoch 7/50\n",
            "47/47 [==============================] - 2s 38ms/step - loss: 0.2949 - accuracy: 0.8922 - val_loss: 1.3996 - val_accuracy: 0.4557 - lr: 0.0010\n",
            "Epoch 8/50\n",
            "47/47 [==============================] - 2s 38ms/step - loss: 0.2807 - accuracy: 0.8974 - val_loss: 1.2302 - val_accuracy: 0.5055 - lr: 0.0010\n",
            "Epoch 9/50\n",
            "47/47 [==============================] - 2s 38ms/step - loss: 0.2755 - accuracy: 0.8994 - val_loss: 0.8414 - val_accuracy: 0.6633 - lr: 0.0010\n",
            "Epoch 10/50\n",
            "47/47 [==============================] - 2s 38ms/step - loss: 0.2600 - accuracy: 0.9040 - val_loss: 0.6136 - val_accuracy: 0.7573 - lr: 0.0010\n",
            "Epoch 11/50\n",
            "47/47 [==============================] - 2s 38ms/step - loss: 0.2592 - accuracy: 0.9047 - val_loss: 0.6114 - val_accuracy: 0.7602 - lr: 0.0010\n",
            "Epoch 12/50\n",
            "47/47 [==============================] - 2s 45ms/step - loss: 0.2501 - accuracy: 0.9071 - val_loss: 0.4539 - val_accuracy: 0.8145 - lr: 0.0010\n",
            "Epoch 13/50\n",
            "47/47 [==============================] - 2s 39ms/step - loss: 0.2389 - accuracy: 0.9128 - val_loss: 0.4267 - val_accuracy: 0.8274 - lr: 0.0010\n",
            "Epoch 14/50\n",
            "47/47 [==============================] - 2s 38ms/step - loss: 0.2381 - accuracy: 0.9127 - val_loss: 0.2711 - val_accuracy: 0.8973 - lr: 0.0010\n",
            "Epoch 15/50\n",
            "47/47 [==============================] - 2s 38ms/step - loss: 0.2289 - accuracy: 0.9159 - val_loss: 0.2937 - val_accuracy: 0.8844 - lr: 0.0010\n",
            "Epoch 16/50\n",
            "47/47 [==============================] - 2s 38ms/step - loss: 0.2260 - accuracy: 0.9171 - val_loss: 0.2346 - val_accuracy: 0.9140 - lr: 0.0010\n",
            "Epoch 17/50\n",
            "47/47 [==============================] - 2s 38ms/step - loss: 0.2228 - accuracy: 0.9184 - val_loss: 0.2154 - val_accuracy: 0.9219 - lr: 0.0010\n",
            "Epoch 18/50\n",
            "47/47 [==============================] - 2s 38ms/step - loss: 0.2150 - accuracy: 0.9211 - val_loss: 0.2719 - val_accuracy: 0.8970 - lr: 0.0010\n",
            "Epoch 19/50\n",
            "47/47 [==============================] - 2s 38ms/step - loss: 0.2107 - accuracy: 0.9237 - val_loss: 0.2151 - val_accuracy: 0.9213 - lr: 0.0010\n",
            "Epoch 20/50\n",
            "47/47 [==============================] - 2s 38ms/step - loss: 0.2090 - accuracy: 0.9237 - val_loss: 0.2316 - val_accuracy: 0.9153 - lr: 0.0010\n",
            "Epoch 21/50\n",
            "47/47 [==============================] - 2s 38ms/step - loss: 0.2041 - accuracy: 0.9239 - val_loss: 0.2268 - val_accuracy: 0.9168 - lr: 0.0010\n",
            "Epoch 22/50\n",
            "47/47 [==============================] - 2s 38ms/step - loss: 0.2009 - accuracy: 0.9273 - val_loss: 0.2285 - val_accuracy: 0.9163 - lr: 0.0010\n",
            "Epoch 23/50\n",
            "47/47 [==============================] - 2s 38ms/step - loss: 0.1966 - accuracy: 0.9278 - val_loss: 0.2016 - val_accuracy: 0.9270 - lr: 0.0010\n",
            "Epoch 24/50\n",
            "47/47 [==============================] - 2s 42ms/step - loss: 0.1902 - accuracy: 0.9290 - val_loss: 0.2014 - val_accuracy: 0.9274 - lr: 0.0010\n",
            "Epoch 25/50\n",
            "47/47 [==============================] - 2s 40ms/step - loss: 0.1886 - accuracy: 0.9298 - val_loss: 0.2651 - val_accuracy: 0.9073 - lr: 0.0010\n",
            "Epoch 26/50\n",
            "47/47 [==============================] - 2s 38ms/step - loss: 0.1875 - accuracy: 0.9320 - val_loss: 0.2044 - val_accuracy: 0.9269 - lr: 0.0010\n",
            "Epoch 27/50\n",
            "47/47 [==============================] - 2s 39ms/step - loss: 0.1857 - accuracy: 0.9316 - val_loss: 0.2299 - val_accuracy: 0.9147 - lr: 0.0010\n",
            "Epoch 28/50\n",
            "47/47 [==============================] - 2s 38ms/step - loss: 0.1824 - accuracy: 0.9324 - val_loss: 0.2298 - val_accuracy: 0.9193 - lr: 0.0010\n",
            "Epoch 29/50\n",
            "47/47 [==============================] - 2s 39ms/step - loss: 0.1810 - accuracy: 0.9317 - val_loss: 0.2246 - val_accuracy: 0.9162 - lr: 0.0010\n",
            "Epoch 30/50\n",
            "47/47 [==============================] - 2s 38ms/step - loss: 0.1699 - accuracy: 0.9361 - val_loss: 0.2468 - val_accuracy: 0.9118 - lr: 0.0010\n",
            "Epoch 31/50\n",
            "47/47 [==============================] - 2s 38ms/step - loss: 0.1739 - accuracy: 0.9351 - val_loss: 0.2293 - val_accuracy: 0.9188 - lr: 0.0010\n",
            "Epoch 32/50\n",
            "47/47 [==============================] - 2s 38ms/step - loss: 0.1718 - accuracy: 0.9374 - val_loss: 0.2211 - val_accuracy: 0.9228 - lr: 0.0010\n",
            "Epoch 33/50\n",
            "47/47 [==============================] - 2s 38ms/step - loss: 0.1693 - accuracy: 0.9380 - val_loss: 0.2025 - val_accuracy: 0.9294 - lr: 0.0010\n",
            "Epoch 34/50\n",
            "47/47 [==============================] - 2s 38ms/step - loss: 0.1681 - accuracy: 0.9371 - val_loss: 0.2020 - val_accuracy: 0.9302 - lr: 0.0010\n"
          ]
        }
      ]
    },
    {
      "cell_type": "code",
      "source": [
        "scores = model.evaluate(x_test, y_test_ohe)\n",
        "print(\"Accuracy = {} %\".format(100 * scores[1]))"
      ],
      "metadata": {
        "colab": {
          "base_uri": "https://localhost:8080/"
        },
        "id": "k7fSHh_eoGDO",
        "outputId": "53ec9854-b83d-425e-a291-f60310f26373"
      },
      "execution_count": null,
      "outputs": [
        {
          "output_type": "stream",
          "name": "stdout",
          "text": [
            "313/313 [==============================] - 1s 3ms/step - loss: 0.2209 - accuracy: 0.9258\n",
            "Accuracy = 92.58000254631042 %\n"
          ]
        }
      ]
    },
    {
      "cell_type": "code",
      "source": [
        "import numpy as np\n",
        "i = random.randint(0,1023)\n",
        "plt.imshow(x_test[i].reshape(28,28))\n",
        "results = model.predict(x_test[:1023])\n",
        "\n",
        "print(np.argmax(results[i]))\n",
        "print(labels[np.argmax(results[i])])\n"
      ],
      "metadata": {
        "colab": {
          "base_uri": "https://localhost:8080/",
          "height": 317
        },
        "id": "S9fGIN5mptn1",
        "outputId": "135db794-4f48-4631-e4c2-8a3a953bc509"
      },
      "execution_count": null,
      "outputs": [
        {
          "output_type": "stream",
          "name": "stdout",
          "text": [
            "32/32 [==============================] - 0s 4ms/step\n",
            "0\n",
            "T-shirt // top\n"
          ]
        },
        {
          "output_type": "display_data",
          "data": {
            "text/plain": [
              "<Figure size 432x288 with 1 Axes>"
            ],
            "image/png": "[encoded data removed]"
          },
          "metadata": {
            "needs_background": "light"
          }
        }
      ]
    },
    {
      "cell_type": "code",
      "source": [
        "model.load_weights(\"model_1.h5\")\n",
        "scores = model.evaluate(x_test, y_test_ohe)\n",
        "print(\"Accuracy = {} %\".format(100 * scores[1]))"
      ],
      "metadata": {
        "colab": {
          "base_uri": "https://localhost:8080/"
        },
        "id": "aWAK0GvbrC8n",
        "outputId": "6598991f-6c87-43d4-d02e-f49f294777c7"
      },
      "execution_count": null,
      "outputs": [
        {
          "output_type": "stream",
          "name": "stdout",
          "text": [
            "313/313 [==============================] - 1s 3ms/step - loss: 0.2209 - accuracy: 0.9258\n",
            "Accuracy = 92.58000254631042 %\n"
          ]
        }
      ]
    },
    {
      "cell_type": "code",
      "source": [
        "print(history.params)\n",
        "print(history.history)"
      ],
      "metadata": {
        "colab": {
          "base_uri": "https://localhost:8080/"
        },
        "id": "DH0et2j6MCNV",
        "outputId": "0d1b6aab-5ce8-45c2-8814-b7a1bac73787"
      },
      "execution_count": null,
      "outputs": [
        {
          "output_type": "stream",
          "name": "stdout",
          "text": [
            "{'verbose': 1, 'epochs': 50, 'steps': 47}\n",
            "{'loss': [0.7812923789024353, 0.45789119601249695, 0.3941933214664459, 0.3611163794994354, 0.3341049551963806, 0.31302574276924133, 0.2948988378047943, 0.28073740005493164, 0.27548548579216003, 0.26004552841186523, 0.25917717814445496, 0.25009167194366455, 0.23888744413852692, 0.23810793459415436, 0.22893981635570526, 0.22597770392894745, 0.2228299379348755, 0.21500100195407867, 0.21072013676166534, 0.20900408923625946, 0.20413503050804138, 0.2008524388074875, 0.1966077834367752, 0.1901579201221466, 0.1885630041360855, 0.18749725818634033, 0.18568675220012665, 0.18244265019893646, 0.1809656172990799, 0.16993162035942078, 0.17390815913677216, 0.17182154953479767, 0.16933469474315643, 0.16806845366954803], 'accuracy': [0.7283124923706055, 0.8363541960716248, 0.856166660785675, 0.871916651725769, 0.8799166679382324, 0.885729193687439, 0.8922083377838135, 0.8974166512489319, 0.8993541598320007, 0.9039999842643738, 0.9046666622161865, 0.9070833325386047, 0.9127500057220459, 0.9126666784286499, 0.9158541560173035, 0.917104184627533, 0.9184166789054871, 0.9210625290870667, 0.9237499833106995, 0.9237291812896729, 0.9238958358764648, 0.9272500276565552, 0.9277916550636292, 0.9289583563804626, 0.9297916889190674, 0.9320416450500488, 0.9315624833106995, 0.9323541522026062, 0.9317291378974915, 0.9360833168029785, 0.9350833296775818, 0.9373541474342346, 0.9379791617393494, 0.9370833039283752], 'val_loss': [2.0815412998199463, 2.1582229137420654, 2.265031337738037, 2.2125673294067383, 1.9415497779846191, 1.7614977359771729, 1.3995611667633057, 1.2302477359771729, 0.8414101004600525, 0.613577127456665, 0.6114419102668762, 0.4539473354816437, 0.4267405569553375, 0.27106285095214844, 0.2936505675315857, 0.2346300482749939, 0.2153901904821396, 0.27189189195632935, 0.2150736302137375, 0.23156005144119263, 0.22683678567409515, 0.22848182916641235, 0.20156390964984894, 0.20143741369247437, 0.2651365399360657, 0.20440194010734558, 0.22990824282169342, 0.22976477444171906, 0.224574014544487, 0.2467597872018814, 0.22932183742523193, 0.22114205360412598, 0.20245462656021118, 0.20204997062683105], 'val_accuracy': [0.26750001311302185, 0.12141666561365128, 0.2488333284854889, 0.2775000035762787, 0.38225001096725464, 0.398499995470047, 0.4557499885559082, 0.5055000185966492, 0.6632500290870667, 0.7572500109672546, 0.7601666450500488, 0.8144999742507935, 0.8274166584014893, 0.8973333239555359, 0.8844166398048401, 0.9139999747276306, 0.921916663646698, 0.8970000147819519, 0.9213333129882812, 0.9152500033378601, 0.9167500138282776, 0.9163333177566528, 0.9269999861717224, 0.9274166822433472, 0.9073333144187927, 0.9269166588783264, 0.9146666526794434, 0.9192500114440918, 0.9162499904632568, 0.9117500185966492, 0.918833315372467, 0.9228333234786987, 0.9294166564941406, 0.9301666617393494], 'lr': [0.001, 0.001, 0.001, 0.001, 0.001, 0.001, 0.001, 0.001, 0.001, 0.001, 0.001, 0.001, 0.001, 0.001, 0.001, 0.001, 0.001, 0.001, 0.001, 0.001, 0.001, 0.001, 0.001, 0.001, 0.001, 0.001, 0.001, 0.001, 0.001, 0.001, 0.001, 0.001, 0.001, 0.001]}\n"
          ]
        }
      ]
    },
    {
      "cell_type": "code",
      "source": [
        "plt.plot(history.history['accuracy'])\n",
        "plt.plot(history.history['val_accuracy'])\n",
        "plt.title('model accuracy')\n",
        "plt.ylabel('accuracy')\n",
        "plt.xlabel('epoch')\n",
        "plt.legend(['train', 'val'], loc='upper left')\n",
        "plt.show()"
      ],
      "metadata": {
        "colab": {
          "base_uri": "https://localhost:8080/",
          "height": 295
        },
        "id": "eQrcOYGP8jCT",
        "outputId": "f30355a0-d9ef-46e1-a177-24bb5604e0dc"
      },
      "execution_count": null,
      "outputs": [
        {
          "output_type": "display_data",
          "data": {
            "text/plain": [
              "<Figure size 432x288 with 1 Axes>"
            ],
            "image/png": "[encoded data removed]"
          },
          "metadata": {
            "needs_background": "light"
          }
        }
      ]
    },
    {
      "cell_type": "code",
      "source": [
        "plt.plot(history.history['loss'])\n",
        "plt.plot(history.history['val_loss'])\n",
        "plt.title('model loss')\n",
        "plt.ylabel('loss')\n",
        "plt.xlabel('epoch')\n",
        "plt.legend(['train', 'val'], loc='upper left')\n",
        "plt.show()"
      ],
      "metadata": {
        "colab": {
          "base_uri": "https://localhost:8080/",
          "height": 295
        },
        "id": "UQxwXimH909W",
        "outputId": "5ca5fa1c-8553-4610-8802-3d5ad28c092d"
      },
      "execution_count": null,
      "outputs": [
        {
          "output_type": "display_data",
          "data": {
            "text/plain": [
              "<Figure size 432x288 with 1 Axes>"
            ],
            "image/png": "[encoded data removed]"
          },
          "metadata": {
            "needs_background": "light"
          }
        }
      ]
    },
    {
      "cell_type": "code",
      "source": [],
      "metadata": {
        "id": "MJIQ_TR8-Ho7"
      },
      "execution_count": null,
      "outputs": []
    }
  ]
}